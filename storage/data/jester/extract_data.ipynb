{
 "cells": [
  {
   "cell_type": "code",
   "execution_count": 1,
   "metadata": {},
   "outputs": [],
   "source": [
    "import pandas as pd\n",
    "import os\n",
    "import re\n"
   ]
  },
  {
   "cell_type": "code",
   "execution_count": 4,
   "metadata": {},
   "outputs": [],
   "source": [
    "DATA_PATH = './texts/'"
   ]
  },
  {
   "cell_type": "markdown",
   "metadata": {},
   "source": [
    "## Load jokes"
   ]
  },
  {
   "cell_type": "code",
   "execution_count": 5,
   "metadata": {},
   "outputs": [],
   "source": [
    "jokes_dict_raw = {}\n",
    "for joke_filename in os.listdir(DATA_PATH + '/jokes'):\n",
    "    if not '.html' in joke_filename:\n",
    "        continue\n",
    "    joke_number = joke_filename.replace('init', '').replace('.html', '')\n",
    "    joke_number = int(joke_number)\n",
    "    \n",
    "    with open(DATA_PATH + f'/jokes/{joke_filename}', encoding='latin1') as f:\n",
    "        jokes_dict_raw[joke_number] = f.read()"
   ]
  },
  {
   "cell_type": "code",
   "execution_count": 6,
   "metadata": {
    "tags": []
   },
   "outputs": [],
   "source": [
    "jokes = []\n",
    "for k in sorted(jokes_dict_raw.keys()):\n",
    "    \n",
    "    joke = re.findall('<!--begin of joke -->([\\s\\S]+)<!--end of joke -->', jokes_dict_raw[k])[0]\n",
    "    jokes.append(joke)"
   ]
  },
  {
   "cell_type": "code",
   "execution_count": 7,
   "metadata": {},
   "outputs": [],
   "source": [
    "text_df = pd.DataFrame(jokes, columns=['text']).reset_index()\n",
    "text_df.columns = ['text_id', 'text']\n",
    "text_df['text_id'] = text_df['text_id'] + 1\n",
    "text_df.to_csv('data.csv', index=False)"
   ]
  },
  {
   "cell_type": "markdown",
   "metadata": {},
   "source": [
    "## Load annotations"
   ]
  },
  {
   "cell_type": "code",
   "execution_count": 9,
   "metadata": {},
   "outputs": [],
   "source": [
    "jester_data_1 = pd.read_excel(DATA_PATH + 'jester-data-1.xls', header=None)\n",
    "jester_data_2 = pd.read_excel(DATA_PATH + 'jester-data-2.xls', header=None)\n",
    "jester_data_3 = pd.read_excel(DATA_PATH + 'jester-data-3.xls', header=None)"
   ]
  },
  {
   "cell_type": "code",
   "execution_count": 10,
   "metadata": {},
   "outputs": [],
   "source": [
    "jester_data = pd.concat([jester_data_1, jester_data_2, jester_data_3])"
   ]
  },
  {
   "cell_type": "code",
   "execution_count": 11,
   "metadata": {},
   "outputs": [],
   "source": [
    "jester_annotations = jester_data.iloc[:, 1:].reset_index(drop=True).reset_index().melt(id_vars=['index'])\n",
    "jester_annotations = jester_annotations.loc[jester_annotations.value != 99.0]\n",
    "jester_annotations.columns = ['annotator_id', 'text_id', 'humor']\n",
    "jester_annotations.to_csv('jester_annotations.csv', index=False)"
   ]
  },
  {
   "cell_type": "code",
   "execution_count": 12,
   "metadata": {},
   "outputs": [
    {
     "data": {
      "text/plain": [
       "text_id\n",
       "1      AxesSubplot(0.125,0.125;0.775x0.755)\n",
       "2      AxesSubplot(0.125,0.125;0.775x0.755)\n",
       "3      AxesSubplot(0.125,0.125;0.775x0.755)\n",
       "4      AxesSubplot(0.125,0.125;0.775x0.755)\n",
       "5      AxesSubplot(0.125,0.125;0.775x0.755)\n",
       "                       ...                 \n",
       "96     AxesSubplot(0.125,0.125;0.775x0.755)\n",
       "97     AxesSubplot(0.125,0.125;0.775x0.755)\n",
       "98     AxesSubplot(0.125,0.125;0.775x0.755)\n",
       "99     AxesSubplot(0.125,0.125;0.775x0.755)\n",
       "100    AxesSubplot(0.125,0.125;0.775x0.755)\n",
       "Name: humor, Length: 100, dtype: object"
      ]
     },
     "execution_count": 12,
     "metadata": {},
     "output_type": "execute_result"
    },
    {
     "data": {
      "image/png": "[encoded data removed]",
      "text/plain": [
       "<Figure size 432x288 with 1 Axes>"
      ]
     },
     "metadata": {
      "needs_background": "light"
     },
     "output_type": "display_data"
    }
   ],
   "source": [
    "for text_id in jester_annotations.text_id.unique():\n",
    "    \n",
    "    plt.title('text_id = ' + text_id)\n",
    "    jester_annotations[jester_annotations.text_id == text_id].humor.hist()\n",
    "    "
   ]
  },
  {
   "cell_type": "code",
   "execution_count": null,
   "metadata": {},
   "outputs": [],
   "source": []
  }
 ],
 "metadata": {
  "interpreter": {
   "hash": "31f2aee4e71d21fbe5cf8b01ff0e069b9275f58929596ceb00d14d90e3e16cd6"
  },
  "kernelspec": {
   "display_name": "Python 3.8.5 64-bit",
   "name": "python3"
  },
  "language_info": {
   "codemirror_mode": {
    "name": "ipython",
    "version": 3
   },
   "file_extension": ".py",
   "mimetype": "text/x-python",
   "name": "python",
   "nbconvert_exporter": "python",
   "pygments_lexer": "ipython3",
   "version": "3.8.5"
  }
 },
 "nbformat": 4,
 "nbformat_minor": 4
}
