{
 "cells": [
  {
   "cell_type": "code",
   "execution_count": 35,
   "metadata": {},
   "outputs": [],
   "source": [
    "import pandas as pd\n",
    "\n",
    "from pathlib import Path"
   ]
  },
  {
   "cell_type": "code",
   "execution_count": 36,
   "metadata": {},
   "outputs": [],
   "source": [
    "data_dir = Path('..') / 'storage' / 'data'"
   ]
  },
  {
   "cell_type": "markdown",
   "metadata": {},
   "source": [
    "<h3>Doccano 1</h3>"
   ]
  },
  {
   "cell_type": "code",
   "execution_count": 37,
   "metadata": {},
   "outputs": [],
   "source": [
    "dataset_name = 'doccano1'\n",
    "\n",
    "data_path = data_dir / dataset_name / 'data.csv'\n",
    "annotations_path = data_dir / dataset_name / 'annotations_texts_folds.csv'\n",
    "full_annotations_path = data_dir / dataset_name / 'annotations.csv'\n",
    "\n",
    "data_df = pd.read_csv(data_path)\n",
    "annotations_df = pd.read_csv(annotations_path)\n",
    "annotations_df = annotations_df[[col_name for col_name in annotations_df.columns if col_name not in ['updated_at', 'text_id_original', 'user_id_original']]].copy()"
   ]
  },
  {
   "cell_type": "code",
   "execution_count": 38,
   "metadata": {},
   "outputs": [
    {
     "name": "stdout",
     "output_type": "stream",
     "text": [
      "(28350, 29)\n"
     ]
    }
   ],
   "source": [
    "print(annotations_df.shape)"
   ]
  },
  {
   "cell_type": "code",
   "execution_count": 39,
   "metadata": {},
   "outputs": [
    {
     "data": {
      "text/plain": [
       "(28350, 30)"
      ]
     },
     "execution_count": 39,
     "metadata": {},
     "output_type": "execute_result"
    }
   ],
   "source": [
    "merged_doccano_1_df = pd.merge(annotations_df, data_df, on='text_id')\n",
    "merged_doccano_1_df.shape"
   ]
  },
  {
   "cell_type": "code",
   "execution_count": 52,
   "metadata": {},
   "outputs": [
    {
     "data": {
      "text/plain": [
       "['text_id',\n",
       " 'user_id',\n",
       " 'Pozytywne',\n",
       " 'Negatywne',\n",
       " 'Radość',\n",
       " 'Zachwyt',\n",
       " 'Inspiruje',\n",
       " 'Spokój',\n",
       " 'Zaskoczenie',\n",
       " 'Współczucie',\n",
       " 'Strach',\n",
       " 'Smutek',\n",
       " 'Wstręt',\n",
       " 'Złość',\n",
       " 'Ironiczny',\n",
       " 'Żenujący',\n",
       " 'Wulgarny',\n",
       " 'Polityczny',\n",
       " 'Interesujący',\n",
       " 'Zrozumiały',\n",
       " 'Zgadzam się z tekstem',\n",
       " 'Wierzę w tę informację',\n",
       " 'Potrzebuję więcej informacji, aby ocenić ten tekst',\n",
       " 'Czuję sympatię do autora',\n",
       " 'Obraża mnie',\n",
       " 'Może kogoś atakować / obrażać / lekceważyć',\n",
       " 'Mnie bawi/śmieszy?',\n",
       " 'Może kogoś bawić?',\n",
       " 'fold',\n",
       " 'text']"
      ]
     },
     "execution_count": 52,
     "metadata": {},
     "output_type": "execute_result"
    }
   ],
   "source": [
    "merged_doccano_1_df.columns.tolist()"
   ]
  },
  {
   "cell_type": "code",
   "execution_count": 40,
   "metadata": {},
   "outputs": [],
   "source": [
    "merged_doccano_1_df.to_json(data_dir / dataset_name / 'annotations_texts_folds.jsonl', orient='records', lines=True)"
   ]
  },
  {
   "cell_type": "markdown",
   "metadata": {},
   "source": [
    "<h3>Doccano 2</h3>"
   ]
  },
  {
   "cell_type": "code",
   "execution_count": 41,
   "metadata": {},
   "outputs": [],
   "source": [
    "dataset_name = 'doccano2'\n",
    "\n",
    "data_path = data_dir / dataset_name / 'data.csv'\n",
    "annotations_path = data_dir / dataset_name / 'annotations_texts_folds.csv'\n",
    "\n",
    "data_df = pd.read_csv(data_path)\n",
    "annotations_df = pd.read_csv(annotations_path)\n",
    "annotations_df = annotations_df[[col_name for col_name in annotations_df.columns if col_name not in ['updated_at', 'text_id_original', 'user_id_original']]].copy()"
   ]
  },
  {
   "cell_type": "code",
   "execution_count": 42,
   "metadata": {},
   "outputs": [
    {
     "data": {
      "text/plain": [
       "(176448, 26)"
      ]
     },
     "execution_count": 42,
     "metadata": {},
     "output_type": "execute_result"
    }
   ],
   "source": [
    "annotations_df.shape"
   ]
  },
  {
   "cell_type": "code",
   "execution_count": 43,
   "metadata": {},
   "outputs": [
    {
     "data": {
      "text/plain": [
       "(176448, 27)"
      ]
     },
     "execution_count": 43,
     "metadata": {},
     "output_type": "execute_result"
    }
   ],
   "source": [
    "merged_doccano_2_df = pd.merge(annotations_df, data_df, on='text_id')\n",
    "\n",
    "merged_doccano_2_df.shape"
   ]
  },
  {
   "cell_type": "code",
   "execution_count": 44,
   "metadata": {},
   "outputs": [],
   "source": [
    "merged_doccano_2_df.to_json(data_dir / dataset_name / 'annotations_texts_folds.jsonl', orient='records', lines=True)"
   ]
  },
  {
   "cell_type": "code",
   "execution_count": 54,
   "metadata": {},
   "outputs": [
    {
     "data": {
      "text/plain": [
       "(60,)"
      ]
     },
     "execution_count": 54,
     "metadata": {},
     "output_type": "execute_result"
    }
   ],
   "source": [
    "merged_doccano_2_df.user_id.unique().shape"
   ]
  },
  {
   "cell_type": "code",
   "execution_count": 45,
   "metadata": {},
   "outputs": [
    {
     "data": {
      "text/plain": [
       "set()"
      ]
     },
     "execution_count": 45,
     "metadata": {},
     "output_type": "execute_result"
    }
   ],
   "source": [
    "set(merged_doccano_1_df.text.unique().tolist()) & set(merged_doccano_2_df.text.unique().tolist())"
   ]
  },
  {
   "cell_type": "code",
   "execution_count": 55,
   "metadata": {},
   "outputs": [
    {
     "data": {
      "text/plain": [
       "{'Czuję sympatię do autora',\n",
       " 'Mnie bawi/śmieszy?',\n",
       " 'Wierzę w tę informację',\n",
       " 'Zgadzam się z tekstem'}"
      ]
     },
     "execution_count": 55,
     "metadata": {},
     "output_type": "execute_result"
    }
   ],
   "source": [
    "set(merged_doccano_1_df.columns.unique().tolist()) - set(merged_doccano_2_df.columns.unique().tolist())"
   ]
  }
 ],
 "metadata": {
  "kernelspec": {
   "display_name": "venv",
   "language": "python",
   "name": "python3"
  },
  "language_info": {
   "codemirror_mode": {
    "name": "ipython",
    "version": 3
   },
   "file_extension": ".py",
   "mimetype": "text/x-python",
   "name": "python",
   "nbconvert_exporter": "python",
   "pygments_lexer": "ipython3",
   "version": "3.10.9"
  }
 },
 "nbformat": 4,
 "nbformat_minor": 2
}
