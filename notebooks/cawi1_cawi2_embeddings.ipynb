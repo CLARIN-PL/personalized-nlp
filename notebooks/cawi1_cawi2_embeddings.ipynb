{
 "cells": [
  {
   "cell_type": "code",
   "execution_count": 1,
   "metadata": {},
   "outputs": [],
   "source": [
    "%load_ext autoreload\n",
    "%autoreload 2\n",
    "\n",
    "import sys\n",
    "sys.path.append('../../')\n",
    "\n",
    "import os\n",
    "os.environ[\"CUDA_VISIBLE_DEVICES\"] = '3'"
   ]
  },
  {
   "cell_type": "code",
   "execution_count": 6,
   "metadata": {},
   "outputs": [],
   "source": [
    "import torch\n",
    "import numpy as np\n",
    "import random\n",
    "import pickle\n",
    "import matplotlib.pyplot as plt\n",
    "\n",
    "def seed_everything():\n",
    "    torch.manual_seed(0)\n",
    "    random.seed(0)\n",
    "    np.random.seed(0)"
   ]
  },
  {
   "cell_type": "markdown",
   "metadata": {},
   "source": [
    "## Load dataset"
   ]
  },
  {
   "cell_type": "code",
   "execution_count": 3,
   "metadata": {},
   "outputs": [],
   "source": [
    "from personalized_nlp.datasets.emotions.emotions import EmotionsDataModule\n",
    "from personalized_nlp.datasets.cawi1.meanings import MeaningsDataModule\n",
    "\n",
    "import pandas as pd"
   ]
  },
  {
   "cell_type": "markdown",
   "metadata": {},
   "source": [
    "## Import datasets"
   ]
  },
  {
   "cell_type": "code",
   "execution_count": 4,
   "metadata": {},
   "outputs": [],
   "source": [
    "regression = True\n",
    "embeddings_type = 'xlmr'\n",
    "x = EmotionsDataModule(embeddings_type=embeddings_type, normalize=regression,\n",
    "                                batch_size=1000)\n",
    "x.prepare_data()\n",
    "x.setup()"
   ]
  },
  {
   "cell_type": "code",
   "execution_count": 19,
   "metadata": {},
   "outputs": [
    {
     "data": {
      "text/plain": [
       "OCZEKIWANIE                0\n",
       "POBUDZENIE EMOCJONALNE     0\n",
       "RADOŚĆ                    32\n",
       "SMUTEK                    33\n",
       "STRACH                    25\n",
       "WSTRĘT                    51\n",
       "ZASKOCZENIE                0\n",
       "ZAUFANIE                  17\n",
       "ZNAK EMOCJI                1\n",
       "ZŁOŚĆ                     41\n",
       "fold                       0\n",
       "dtype: int64"
      ]
     },
     "execution_count": 19,
     "metadata": {},
     "output_type": "execute_result"
    }
   ],
   "source": [
    "text_stds = x.annotations.groupby('text_id').std().iloc[:, 1:]\n",
    "(text_stds < 0.1).sum(axis=0)"
   ]
  },
  {
   "cell_type": "code",
   "execution_count": 4,
   "metadata": {},
   "outputs": [],
   "source": [
    "regression = True\n",
    "embeddings_type = 'xlmr'\n",
    "cawi1_data_module = MeaningsDataModule(embeddings_type=embeddings_type, normalize=regression,\n",
    "                                batch_size=1000)\n",
    "cawi1_data_module.prepare_data()\n",
    "cawi1_data_module.setup()\n",
    "\n",
    "cawi2_data_module = EmotionsDataModule(embeddings_type=embeddings_type, normalize=regression,\n",
    "                                batch_size=1000)\n",
    "cawi2_data_module.prepare_data()\n",
    "cawi2_data_module.setup()"
   ]
  },
  {
   "cell_type": "code",
   "execution_count": 5,
   "metadata": {},
   "outputs": [
    {
     "data": {
      "text/plain": [
       "193"
      ]
     },
     "execution_count": 5,
     "metadata": {},
     "output_type": "execute_result"
    }
   ],
   "source": [
    "cawi1_annotators = sorted(cawi1_data_module.annotator_id_idx_dict.keys())\n",
    "cawi2_annotators = sorted(cawi2_data_module.annotator_id_idx_dict.keys())\n",
    "\n",
    "len(set(cawi1_annotators).intersection(cawi2_annotators))"
   ]
  },
  {
   "cell_type": "markdown",
   "metadata": {},
   "source": [
    "## Load embeddings"
   ]
  },
  {
   "cell_type": "code",
   "execution_count": 6,
   "metadata": {},
   "outputs": [],
   "source": [
    "cawi1_embeddings_dict = pickle.load(open('/mnt/big_one/persemo/mgruza/humor-personalization/cawi1_embeddings.p', 'rb'))\n",
    "cawi2_embeddings_dict = pickle.load(open('/mnt/big_one/persemo/mgruza/humor-personalization/cawi2_embeddings.p', 'rb'))"
   ]
  },
  {
   "cell_type": "code",
   "execution_count": 7,
   "metadata": {},
   "outputs": [],
   "source": [
    "cawi1_embeddings = []\n",
    "cawi2_embeddings = []\n",
    "\n",
    "for annotator_id in cawi1_embeddings_dict.keys():\n",
    "    if annotator_id in cawi2_embeddings_dict:\n",
    "        cawi1_embeddings.append(cawi1_embeddings_dict[annotator_id])\n",
    "        cawi2_embeddings.append(cawi2_embeddings_dict[annotator_id])\n",
    "\n",
    "cawi1_embeddings = np.vstack(cawi1_embeddings)\n",
    "cawi2_embeddings = np.vstack(cawi2_embeddings)\n"
   ]
  },
  {
   "cell_type": "markdown",
   "metadata": {},
   "source": [
    "## Compute distances"
   ]
  },
  {
   "cell_type": "code",
   "execution_count": 9,
   "metadata": {},
   "outputs": [],
   "source": [
    "from scipy.spatial import distance_matrix\n",
    "from scipy.stats import pearsonr"
   ]
  },
  {
   "cell_type": "code",
   "execution_count": 16,
   "metadata": {},
   "outputs": [
    {
     "data": {
      "text/plain": [
       "(0.3256706931290672, 0.0)"
      ]
     },
     "execution_count": 16,
     "metadata": {},
     "output_type": "execute_result"
    }
   ],
   "source": [
    "cawi1_distances = distance_matrix(cawi1_embeddings, cawi1_embeddings).flatten()\n",
    "cawi2_distances = distance_matrix(cawi2_embeddings, cawi2_embeddings).flatten()\n",
    "\n",
    "cawi1_distances = (cawi1_distances - cawi1_distances.mean()) / cawi1_distances.std()\n",
    "cawi2_distances = (cawi2_distances - cawi2_distances.mean()) / cawi2_distances.std()\n",
    "\n",
    "pearsonr(cawi1_distances, cawi2_distances)"
   ]
  },
  {
   "cell_type": "code",
   "execution_count": 17,
   "metadata": {},
   "outputs": [],
   "source": [
    "distances_df = pd.DataFrame({'cawi1_distances': cawi1_distances, 'cawi2_distances': cawi2_distances})"
   ]
  },
  {
   "cell_type": "code",
   "execution_count": 18,
   "metadata": {},
   "outputs": [
    {
     "data": {
      "text/plain": [
       "<seaborn.axisgrid.FacetGrid at 0x7f2e292bdeb0>"
      ]
     },
     "execution_count": 18,
     "metadata": {},
     "output_type": "execute_result"
    },
    {
     "data": {
      "text/plain": [
       "<Figure size 1080x1080 with 0 Axes>"
      ]
     },
     "metadata": {},
     "output_type": "display_data"
    },
    {
     "data": {
      "image/png": "[encoded data removed]",
      "text/plain": [
       "<Figure size 432x432 with 1 Axes>"
      ]
     },
     "metadata": {
      "needs_background": "light"
     },
     "output_type": "display_data"
    }
   ],
   "source": [
    "import seaborn as sns\n",
    "\n",
    "plt.figure(figsize=(15, 15))\n",
    "sns.displot(data=distances_df, x='cawi1_distances', y='cawi2_distances', height=6)"
   ]
  },
  {
   "cell_type": "markdown",
   "metadata": {},
   "source": [
    "## CCA"
   ]
  },
  {
   "cell_type": "code",
   "execution_count": 19,
   "metadata": {},
   "outputs": [
    {
     "data": {
      "image/png": "[encoded data removed]",
      "text/plain": [
       "<Figure size 432x288 with 1 Axes>"
      ]
     },
     "metadata": {
      "needs_background": "light"
     },
     "output_type": "display_data"
    }
   ],
   "source": [
    "from sklearn.cross_decomposition import CCA\n",
    "\n",
    "cca = CCA(n_components=50)\n",
    "cca.fit(cawi1_embeddings, cawi2_embeddings)\n",
    "x_c, y_c = cca.transform(cawi1_embeddings, cawi2_embeddings)\n",
    "\n",
    "dimension_correlations = []\n",
    "\n",
    "for i in range(50):\n",
    "    correlation = pearsonr(x_c[:, i], y_c[:, i])\n",
    "    dimension_correlations.append(correlation[0])\n",
    "\n",
    "plt.plot(dimension_correlations)   \n",
    "plt.show()"
   ]
  },
  {
   "cell_type": "code",
   "execution_count": null,
   "metadata": {},
   "outputs": [],
   "source": []
  }
 ],
 "metadata": {
  "interpreter": {
   "hash": "916dbcbb3f70747c44a77c7bcd40155683ae19c65e1c03b4aa3499c5328201f1"
  },
  "kernelspec": {
   "display_name": "Python 3",
   "language": "python",
   "name": "python3"
  },
  "language_info": {
   "codemirror_mode": {
    "name": "ipython",
    "version": 3
   },
   "file_extension": ".py",
   "mimetype": "text/x-python",
   "name": "python",
   "nbconvert_exporter": "python",
   "pygments_lexer": "ipython3",
   "version": "3.8.5"
  }
 },
 "nbformat": 4,
 "nbformat_minor": 4
}
