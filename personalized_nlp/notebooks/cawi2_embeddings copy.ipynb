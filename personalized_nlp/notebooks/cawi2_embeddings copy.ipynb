{
 "cells": [
  {
   "cell_type": "code",
   "execution_count": 2,
   "source": [
    "%load_ext autoreload\n",
    "%autoreload 2\n",
    "\n",
    "import sys\n",
    "sys.path.append('../../')\n",
    "\n",
    "import os\n",
    "os.environ[\"CUDA_VISIBLE_DEVICES\"] = '3'"
   ],
   "outputs": [
    {
     "output_type": "stream",
     "name": "stdout",
     "text": [
      "The autoreload extension is already loaded. To reload it, use:\n",
      "  %reload_ext autoreload\n"
     ]
    }
   ],
   "metadata": {}
  },
  {
   "cell_type": "code",
   "execution_count": 3,
   "source": [
    "import torch\n",
    "import numpy as np\n",
    "import random\n",
    "import pickle\n",
    "\n",
    "def seed_everything():\n",
    "    torch.manual_seed(0)\n",
    "    random.seed(0)\n",
    "    np.random.seed(0)"
   ],
   "outputs": [],
   "metadata": {}
  },
  {
   "cell_type": "markdown",
   "source": [
    "## Load dataset"
   ],
   "metadata": {}
  },
  {
   "cell_type": "code",
   "execution_count": 4,
   "source": [
    "from personalized_nlp.datasets.emotions.emotions import EmotionsDataModule\n",
    "from personalized_nlp.datasets.cawi1.meanings import MeaningsDataModule\n",
    "\n",
    "import pandas as pd"
   ],
   "outputs": [],
   "metadata": {}
  },
  {
   "cell_type": "code",
   "execution_count": 28,
   "source": [
    "df = pd.read_csv('/mnt/big_one/persemo/mgruza/humor-personalization/personalized_nlp/storage/cockamamie_gobbledegook/texts/cockamamie_gobbledegook_annotations.csv')\n",
    "\n",
    "controversial_texts = df.groupby('text_id')['is_funny'].mean()\n",
    "controversial_texts = controversial_texts[controversial_texts > 0].reset_index().loc[:, ['text_id']]\n",
    "df.merge(controversial_texts)"
   ],
   "outputs": [
    {
     "output_type": "execute_result",
     "data": {
      "text/html": [
       "<div>\n",
       "<style scoped>\n",
       "    .dataframe tbody tr th:only-of-type {\n",
       "        vertical-align: middle;\n",
       "    }\n",
       "\n",
       "    .dataframe tbody tr th {\n",
       "        vertical-align: top;\n",
       "    }\n",
       "\n",
       "    .dataframe thead th {\n",
       "        text-align: right;\n",
       "    }\n",
       "</style>\n",
       "<table border=\"1\" class=\"dataframe\">\n",
       "  <thead>\n",
       "    <tr style=\"text-align: right;\">\n",
       "      <th></th>\n",
       "      <th>text_id</th>\n",
       "      <th>annotator_id</th>\n",
       "      <th>is_funny</th>\n",
       "    </tr>\n",
       "  </thead>\n",
       "  <tbody>\n",
       "    <tr>\n",
       "      <th>0</th>\n",
       "      <td>1</td>\n",
       "      <td>1</td>\n",
       "      <td>1</td>\n",
       "    </tr>\n",
       "    <tr>\n",
       "      <th>1</th>\n",
       "      <td>1</td>\n",
       "      <td>1664</td>\n",
       "      <td>0</td>\n",
       "    </tr>\n",
       "    <tr>\n",
       "      <th>2</th>\n",
       "      <td>1</td>\n",
       "      <td>1712</td>\n",
       "      <td>0</td>\n",
       "    </tr>\n",
       "    <tr>\n",
       "      <th>3</th>\n",
       "      <td>8</td>\n",
       "      <td>74</td>\n",
       "      <td>1</td>\n",
       "    </tr>\n",
       "    <tr>\n",
       "      <th>4</th>\n",
       "      <td>8</td>\n",
       "      <td>49</td>\n",
       "      <td>0</td>\n",
       "    </tr>\n",
       "    <tr>\n",
       "      <th>...</th>\n",
       "      <td>...</td>\n",
       "      <td>...</td>\n",
       "      <td>...</td>\n",
       "    </tr>\n",
       "    <tr>\n",
       "      <th>137445</th>\n",
       "      <td>119993</td>\n",
       "      <td>4</td>\n",
       "      <td>0</td>\n",
       "    </tr>\n",
       "    <tr>\n",
       "      <th>137446</th>\n",
       "      <td>119993</td>\n",
       "      <td>74</td>\n",
       "      <td>0</td>\n",
       "    </tr>\n",
       "    <tr>\n",
       "      <th>137447</th>\n",
       "      <td>119994</td>\n",
       "      <td>62</td>\n",
       "      <td>1</td>\n",
       "    </tr>\n",
       "    <tr>\n",
       "      <th>137448</th>\n",
       "      <td>119994</td>\n",
       "      <td>1682</td>\n",
       "      <td>0</td>\n",
       "    </tr>\n",
       "    <tr>\n",
       "      <th>137449</th>\n",
       "      <td>119994</td>\n",
       "      <td>1698</td>\n",
       "      <td>0</td>\n",
       "    </tr>\n",
       "  </tbody>\n",
       "</table>\n",
       "<p>137450 rows × 3 columns</p>\n",
       "</div>"
      ],
      "text/plain": [
       "        text_id  annotator_id  is_funny\n",
       "0             1             1         1\n",
       "1             1          1664         0\n",
       "2             1          1712         0\n",
       "3             8            74         1\n",
       "4             8            49         0\n",
       "...         ...           ...       ...\n",
       "137445   119993             4         0\n",
       "137446   119993            74         0\n",
       "137447   119994            62         1\n",
       "137448   119994          1682         0\n",
       "137449   119994          1698         0\n",
       "\n",
       "[137450 rows x 3 columns]"
      ]
     },
     "metadata": {},
     "execution_count": 28
    }
   ],
   "metadata": {}
  },
  {
   "cell_type": "markdown",
   "source": [
    "## Import datasets"
   ],
   "metadata": {}
  },
  {
   "cell_type": "code",
   "execution_count": 5,
   "source": [
    "regression = True\n",
    "embeddings_type = 'xlmr'\n",
    "\n",
    "cawi2_data_module = EmotionsDataModule(embeddings_type=embeddings_type, normalize=regression,\n",
    "                                batch_size=1000)\n",
    "cawi2_data_module.prepare_data()\n",
    "cawi2_data_module.setup()"
   ],
   "outputs": [],
   "metadata": {}
  },
  {
   "cell_type": "code",
   "execution_count": 6,
   "source": [
    "cawi2_annotators = sorted(cawi2_data_module.annotator_id_idx_dict.keys())"
   ],
   "outputs": [],
   "metadata": {}
  },
  {
   "cell_type": "markdown",
   "source": [
    "## Load embeddings"
   ],
   "metadata": {}
  },
  {
   "cell_type": "code",
   "execution_count": 7,
   "source": [
    "cawi2_embeddings_dicts = [\n",
    "    pickle.load(\n",
    "        open(f'/mnt/big_one/persemo/mgruza/humor-personalization/personalized_nlp/experiments/data/cawi_embeddings/cawi2_embeddings_{fold_num}.p', 'rb')\n",
    "    ) \n",
    "    for fold_num in range(5)\n",
    "]"
   ],
   "outputs": [],
   "metadata": {}
  },
  {
   "cell_type": "markdown",
   "source": [
    "## Compute distances"
   ],
   "metadata": {}
  },
  {
   "cell_type": "code",
   "execution_count": 8,
   "source": [
    "from scipy.spatial import distance_matrix\n",
    "from scipy.stats import pearsonr"
   ],
   "outputs": [],
   "metadata": {}
  },
  {
   "cell_type": "code",
   "execution_count": 9,
   "source": [
    "cawi2_embeddings = []\n",
    "for fold_num in range(5):\n",
    "    fold_embeddings = []\n",
    "    for k in sorted(list(cawi2_embeddings_dicts[0].keys())):\n",
    "        fold_embeddings.append(cawi2_embeddings_dicts[fold_num][k])\n",
    "    \n",
    "    cawi2_embeddings.append(np.array(fold_embeddings))"
   ],
   "outputs": [],
   "metadata": {}
  },
  {
   "cell_type": "code",
   "execution_count": 10,
   "source": [
    "all_distances = []\n",
    "for fold_num in range(5):\n",
    "    embeddings = cawi2_embeddings[fold_num]\n",
    "    distances = distance_matrix(embeddings, embeddings).flatten()\n",
    "    distances = (distances - distances.mean()) / distances.std()\n",
    "    all_distances.append(distances)"
   ],
   "outputs": [],
   "metadata": {}
  },
  {
   "cell_type": "code",
   "execution_count": 11,
   "source": [
    "correlations_array = np.zeros((5,5))\n",
    "\n",
    "for i in range(5):\n",
    "    for j in range(5):\n",
    "        correlations_array[i][j] = pearsonr(all_distances[i], all_distances[j])[0]\n",
    "correlations_array"
   ],
   "outputs": [
    {
     "output_type": "execute_result",
     "data": {
      "text/plain": [
       "array([[1.        , 0.89522318, 0.87413602, 0.87781502, 0.84267777],\n",
       "       [0.89522318, 1.        , 0.89525194, 0.88005484, 0.84280409],\n",
       "       [0.87413602, 0.89525194, 1.        , 0.89957815, 0.83653781],\n",
       "       [0.87781502, 0.88005484, 0.89957815, 1.        , 0.84182071],\n",
       "       [0.84267777, 0.84280409, 0.83653781, 0.84182071, 1.        ]])"
      ]
     },
     "metadata": {},
     "execution_count": 11
    }
   ],
   "metadata": {}
  },
  {
   "cell_type": "code",
   "execution_count": 15,
   "source": [
    "correlations_array[correlations_array < 0.99].mean()"
   ],
   "outputs": [
    {
     "output_type": "execute_result",
     "data": {
      "text/plain": [
       "0.8685899519599813"
      ]
     },
     "metadata": {},
     "execution_count": 15
    }
   ],
   "metadata": {}
  },
  {
   "cell_type": "markdown",
   "source": [
    "## Pairwise distances"
   ],
   "metadata": {}
  },
  {
   "cell_type": "code",
   "execution_count": 37,
   "source": [
    "distances_df = pd.DataFrame({'cawi1_distances': all_distances[0][:30000], 'cawi2_distances': all_distances[1][:30000]})"
   ],
   "outputs": [],
   "metadata": {}
  },
  {
   "cell_type": "code",
   "execution_count": 38,
   "source": [
    "import seaborn as sns\n",
    "import matplotlib.pyplot as plt\n",
    "\n",
    "plt.figure(figsize=(15, 15))\n",
    "sns.displot(data=distances_df, x='cawi1_distances', y='cawi2_distances', height=6)"
   ],
   "outputs": [
    {
     "output_type": "execute_result",
     "data": {
      "text/plain": [
       "<seaborn.axisgrid.FacetGrid at 0x7fcae0a8a940>"
      ]
     },
     "metadata": {},
     "execution_count": 38
    },
    {
     "output_type": "display_data",
     "data": {
      "text/plain": [
       "<Figure size 1080x1080 with 0 Axes>"
      ]
     },
     "metadata": {}
    },
    {
     "output_type": "display_data",
     "data": {
      "image/png": "[encoded data removed]",
      "text/plain": [
       "<Figure size 432x432 with 1 Axes>"
      ]
     },
     "metadata": {
      "needs_background": "light"
     }
    }
   ],
   "metadata": {}
  },
  {
   "cell_type": "markdown",
   "source": [
    "## CCA "
   ],
   "metadata": {}
  },
  {
   "cell_type": "code",
   "execution_count": null,
   "source": [
    "from sklearn.cross_decomposition import CCA\n",
    "\n",
    "for exp1 in range(5):\n",
    "    for exp2 in range(exp1, 5):\n",
    "        if exp1 == exp2:\n",
    "            continue\n",
    "            \n",
    "        cca = CCA(n_components=50)\n",
    "        cca.fit(cawi2_embeddings[exp1], cawi2_embeddings[exp2])\n",
    "        x_c, y_c = cca.transform(cawi2_embeddings[exp1], cawi2_embeddings[exp2])\n",
    "        \n",
    "        dimension_correlations = []\n",
    "\n",
    "        for i in range(50):\n",
    "            correlation = pearsonr(x_c[:, i], y_c[:, i])\n",
    "            dimension_correlations.append(correlation[0])\n",
    "        \n",
    "        plt.plot(dimension_correlations)   \n",
    "        plt.show()"
   ],
   "outputs": [
    {
     "output_type": "display_data",
     "data": {
      "image/png": "[encoded data removed]",
      "text/plain": [
       "<Figure size 432x288 with 1 Axes>"
      ]
     },
     "metadata": {
      "needs_background": "light"
     }
    },
    {
     "output_type": "display_data",
     "data": {
      "image/png": "[encoded data removed]",
      "text/plain": [
       "<Figure size 432x288 with 1 Axes>"
      ]
     },
     "metadata": {
      "needs_background": "light"
     }
    },
    {
     "output_type": "display_data",
     "data": {
      "image/png": "[encoded data removed]",
      "text/plain": [
       "<Figure size 432x288 with 1 Axes>"
      ]
     },
     "metadata": {
      "needs_background": "light"
     }
    }
   ],
   "metadata": {}
  },
  {
   "cell_type": "code",
   "execution_count": null,
   "source": [],
   "outputs": [],
   "metadata": {}
  }
 ],
 "metadata": {
  "interpreter": {
   "hash": "916dbcbb3f70747c44a77c7bcd40155683ae19c65e1c03b4aa3499c5328201f1"
  },
  "kernelspec": {
   "name": "python3",
   "display_name": "Python 3.8.5 64-bit"
  },
  "language_info": {
   "codemirror_mode": {
    "name": "ipython",
    "version": 3
   },
   "file_extension": ".py",
   "mimetype": "text/x-python",
   "name": "python",
   "nbconvert_exporter": "python",
   "pygments_lexer": "ipython3",
   "version": "3.8.5"
  }
 },
 "nbformat": 4,
 "nbformat_minor": 4
}