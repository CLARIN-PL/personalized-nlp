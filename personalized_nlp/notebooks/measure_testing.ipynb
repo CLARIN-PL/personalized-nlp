{
 "cells": [
  {
   "cell_type": "code",
   "execution_count": 1,
   "metadata": {},
   "outputs": [],
   "source": [
    "import sys\n",
    "sys.path.append(\"../\") # go to parent dir\n",
    "\n",
    "import pandas as pd\n",
    "import numpy as np\n",
    "from utils.pers_text_rec import *"
   ]
  },
  {
   "cell_type": "code",
   "execution_count": 2,
   "metadata": {},
   "outputs": [],
   "source": [
    "annotations = pd.read_csv('/home/gengar/storage/humor-personalization/personalized_nlp/storage/humor/texts/annotations.csv')"
   ]
  },
  {
   "cell_type": "code",
   "execution_count": 3,
   "metadata": {},
   "outputs": [
    {
     "data": {
      "text/html": [
       "<div>\n",
       "<style scoped>\n",
       "    .dataframe tbody tr th:only-of-type {\n",
       "        vertical-align: middle;\n",
       "    }\n",
       "\n",
       "    .dataframe tbody tr th {\n",
       "        vertical-align: top;\n",
       "    }\n",
       "\n",
       "    .dataframe thead th {\n",
       "        text-align: right;\n",
       "    }\n",
       "</style>\n",
       "<table border=\"1\" class=\"dataframe\">\n",
       "  <thead>\n",
       "    <tr style=\"text-align: right;\">\n",
       "      <th></th>\n",
       "      <th>text_id</th>\n",
       "      <th>annotator_id</th>\n",
       "      <th>is_funny</th>\n",
       "    </tr>\n",
       "  </thead>\n",
       "  <tbody>\n",
       "    <tr>\n",
       "      <th>0</th>\n",
       "      <td>21687865379</td>\n",
       "      <td>160</td>\n",
       "      <td>3</td>\n",
       "    </tr>\n",
       "    <tr>\n",
       "      <th>1</th>\n",
       "      <td>21687865379</td>\n",
       "      <td>276</td>\n",
       "      <td>1</td>\n",
       "    </tr>\n",
       "    <tr>\n",
       "      <th>2</th>\n",
       "      <td>21687865379</td>\n",
       "      <td>2845</td>\n",
       "      <td>4</td>\n",
       "    </tr>\n",
       "    <tr>\n",
       "      <th>3</th>\n",
       "      <td>21687865379</td>\n",
       "      <td>3007</td>\n",
       "      <td>1</td>\n",
       "    </tr>\n",
       "    <tr>\n",
       "      <th>4</th>\n",
       "      <td>21687865379</td>\n",
       "      <td>4770</td>\n",
       "      <td>1</td>\n",
       "    </tr>\n",
       "  </tbody>\n",
       "</table>\n",
       "</div>"
      ],
      "text/plain": [
       "       text_id  annotator_id  is_funny\n",
       "0  21687865379           160         3\n",
       "1  21687865379           276         1\n",
       "2  21687865379          2845         4\n",
       "3  21687865379          3007         1\n",
       "4  21687865379          4770         1"
      ]
     },
     "execution_count": 3,
     "metadata": {},
     "output_type": "execute_result"
    }
   ],
   "source": [
    "annotations.head()"
   ]
  },
  {
   "cell_type": "code",
   "execution_count": 4,
   "metadata": {},
   "outputs": [
    {
     "name": "stderr",
     "output_type": "stream",
     "text": [
      "100%|██████████| 3707/3707 [00:00<00:00, 11531.35it/s]\n",
      "  0%|          | 3/3707 [01:15<26:00:13, 25.27s/it]\n"
     ]
    },
    {
     "ename": "KeyboardInterrupt",
     "evalue": "",
     "output_type": "error",
     "traceback": [
      "\u001b[0;31m---------------------------------------------------------------------------\u001b[0m",
      "\u001b[0;31mKeyboardInterrupt\u001b[0m                         Traceback (most recent call last)",
      "\u001b[1;32m/home/gengar/storage/humor-personalization/personalized_nlp/notebooks/measure_testing.ipynb Cell 4'\u001b[0m in \u001b[0;36m<module>\u001b[0;34m\u001b[0m\n\u001b[1;32m     <a href='vscode-notebook-cell://ssh-remote%2B10.9.0.205/home/gengar/storage/humor-personalization/personalized_nlp/notebooks/measure_testing.ipynb#ch0000003vscode-remote?line=19'>20</a>\u001b[0m     first_user_row_id \u001b[39m=\u001b[39m annotations\u001b[39m.\u001b[39mindex[annotations[\u001b[39m'\u001b[39m\u001b[39mannotator_id\u001b[39m\u001b[39m'\u001b[39m] \u001b[39m==\u001b[39m user]\u001b[39m.\u001b[39mtolist()[\u001b[39m0\u001b[39m]\n\u001b[1;32m     <a href='vscode-notebook-cell://ssh-remote%2B10.9.0.205/home/gengar/storage/humor-personalization/personalized_nlp/notebooks/measure_testing.ipynb#ch0000003vscode-remote?line=20'>21</a>\u001b[0m     annotations\u001b[39m.\u001b[39mat[first_user_row_id, \u001b[39m'\u001b[39m\u001b[39muser_annotation_order\u001b[39m\u001b[39m'\u001b[39m] \u001b[39m=\u001b[39m \u001b[39m0\u001b[39m\n\u001b[0;32m---> <a href='vscode-notebook-cell://ssh-remote%2B10.9.0.205/home/gengar/storage/humor-personalization/personalized_nlp/notebooks/measure_testing.ipynb#ch0000003vscode-remote?line=21'>22</a>\u001b[0m metric_test \u001b[39m=\u001b[39m neighbour_annotators_count(\u001b[39m\"\u001b[39;49m\u001b[39mis_funny\u001b[39;49m\u001b[39m\"\u001b[39;49m, annotations)\n\u001b[1;32m     <a href='vscode-notebook-cell://ssh-remote%2B10.9.0.205/home/gengar/storage/humor-personalization/personalized_nlp/notebooks/measure_testing.ipynb#ch0000003vscode-remote?line=22'>23</a>\u001b[0m \u001b[39m# texts_controversy_df = texts_controversy_df.groupby(\"annotator_id\").apply(rank)\u001b[39;00m\n\u001b[1;32m     <a href='vscode-notebook-cell://ssh-remote%2B10.9.0.205/home/gengar/storage/humor-personalization/personalized_nlp/notebooks/measure_testing.ipynb#ch0000003vscode-remote?line=23'>24</a>\u001b[0m metric_test[metric_test[\u001b[39m'\u001b[39m\u001b[39mannotator_id\u001b[39m\u001b[39m'\u001b[39m]\u001b[39m==\u001b[39m\u001b[39m160\u001b[39m]\u001b[39m.\u001b[39msort_values(by\u001b[39m=\u001b[39m[\u001b[39m'\u001b[39m\u001b[39muser_annotation_order\u001b[39m\u001b[39m'\u001b[39m])\n",
      "File \u001b[0;32m/mnt/big_one/gengar/humor-personalization/personalized_nlp/utils/pers_text_rec.py:832\u001b[0m, in \u001b[0;36mneighbour_annotators_count\u001b[0;34m(column_name, annotations)\u001b[0m\n\u001b[1;32m    <a href='file:///mnt/big_one/gengar/humor-personalization/personalized_nlp/utils/pers_text_rec.py?line=829'>830</a>\u001b[0m \u001b[39m# for i, row in filtered_df[['text_id', 'annotator_id']].iterrows():\u001b[39;00m\n\u001b[1;32m    <a href='file:///mnt/big_one/gengar/humor-personalization/personalized_nlp/utils/pers_text_rec.py?line=830'>831</a>\u001b[0m \u001b[39mfor\u001b[39;00m annotation_tuple \u001b[39min\u001b[39;00m filtered_annotation_ids:\n\u001b[0;32m--> <a href='file:///mnt/big_one/gengar/humor-personalization/personalized_nlp/utils/pers_text_rec.py?line=831'>832</a>\u001b[0m     annotation_ind \u001b[39m=\u001b[39m df\u001b[39m.\u001b[39mindex[(df[\u001b[39m'\u001b[39;49m\u001b[39mtext_id\u001b[39;49m\u001b[39m'\u001b[39;49m] \u001b[39m==\u001b[39;49m annotation_tuple[\u001b[39m0\u001b[39;49m]) \u001b[39m&\u001b[39;49m (df[\u001b[39m'\u001b[39;49m\u001b[39mannotator_id\u001b[39;49m\u001b[39m'\u001b[39;49m] \u001b[39m==\u001b[39;49m annotation_tuple[\u001b[39m1\u001b[39;49m])]\u001b[39m.\u001b[39mtolist()[\u001b[39m0\u001b[39m]\n\u001b[1;32m    <a href='file:///mnt/big_one/gengar/humor-personalization/personalized_nlp/utils/pers_text_rec.py?line=832'>833</a>\u001b[0m     annotators_list \u001b[39m=\u001b[39m text_annotators_df[text_annotators_df[\u001b[39m'\u001b[39m\u001b[39mtext_id\u001b[39m\u001b[39m'\u001b[39m] \u001b[39m==\u001b[39m annotation_tuple[\u001b[39m0\u001b[39m]][\u001b[39m'\u001b[39m\u001b[39mannotators_list\u001b[39m\u001b[39m'\u001b[39m]\u001b[39m.\u001b[39mtolist()[\u001b[39m0\u001b[39m]\n\u001b[1;32m    <a href='file:///mnt/big_one/gengar/humor-personalization/personalized_nlp/utils/pers_text_rec.py?line=833'>834</a>\u001b[0m     non_neighbours_list \u001b[39m=\u001b[39m \u001b[39mlist\u001b[39m(\u001b[39mset\u001b[39m(annotators_list) \u001b[39m-\u001b[39m \u001b[39mset\u001b[39m(user_neighbours)) \u001b[39m#[annotator_id for annotator_id in annotators_list if annotator_id not in user_neighbours]\u001b[39;00m\n",
      "File \u001b[0;32m~/storage/humor-personalization/venv/lib/python3.8/site-packages/pandas/core/ops/common.py:70\u001b[0m, in \u001b[0;36m_unpack_zerodim_and_defer.<locals>.new_method\u001b[0;34m(self, other)\u001b[0m\n\u001b[1;32m     <a href='file:///~/storage/humor-personalization/venv/lib/python3.8/site-packages/pandas/core/ops/common.py?line=65'>66</a>\u001b[0m             \u001b[39mreturn\u001b[39;00m \u001b[39mNotImplemented\u001b[39m\n\u001b[1;32m     <a href='file:///~/storage/humor-personalization/venv/lib/python3.8/site-packages/pandas/core/ops/common.py?line=67'>68</a>\u001b[0m other \u001b[39m=\u001b[39m item_from_zerodim(other)\n\u001b[0;32m---> <a href='file:///~/storage/humor-personalization/venv/lib/python3.8/site-packages/pandas/core/ops/common.py?line=69'>70</a>\u001b[0m \u001b[39mreturn\u001b[39;00m method(\u001b[39mself\u001b[39;49m, other)\n",
      "File \u001b[0;32m~/storage/humor-personalization/venv/lib/python3.8/site-packages/pandas/core/arraylike.py:70\u001b[0m, in \u001b[0;36mOpsMixin.__and__\u001b[0;34m(self, other)\u001b[0m\n\u001b[1;32m     <a href='file:///~/storage/humor-personalization/venv/lib/python3.8/site-packages/pandas/core/arraylike.py?line=67'>68</a>\u001b[0m \u001b[39m@unpack_zerodim_and_defer\u001b[39m(\u001b[39m\"\u001b[39m\u001b[39m__and__\u001b[39m\u001b[39m\"\u001b[39m)\n\u001b[1;32m     <a href='file:///~/storage/humor-personalization/venv/lib/python3.8/site-packages/pandas/core/arraylike.py?line=68'>69</a>\u001b[0m \u001b[39mdef\u001b[39;00m \u001b[39m__and__\u001b[39m(\u001b[39mself\u001b[39m, other):\n\u001b[0;32m---> <a href='file:///~/storage/humor-personalization/venv/lib/python3.8/site-packages/pandas/core/arraylike.py?line=69'>70</a>\u001b[0m     \u001b[39mreturn\u001b[39;00m \u001b[39mself\u001b[39;49m\u001b[39m.\u001b[39;49m_logical_method(other, operator\u001b[39m.\u001b[39;49mand_)\n",
      "File \u001b[0;32m~/storage/humor-personalization/venv/lib/python3.8/site-packages/pandas/core/series.py:5635\u001b[0m, in \u001b[0;36mSeries._logical_method\u001b[0;34m(self, other, op)\u001b[0m\n\u001b[1;32m   <a href='file:///~/storage/humor-personalization/venv/lib/python3.8/site-packages/pandas/core/series.py?line=5631'>5632</a>\u001b[0m rvalues \u001b[39m=\u001b[39m extract_array(other, extract_numpy\u001b[39m=\u001b[39m\u001b[39mTrue\u001b[39;00m, extract_range\u001b[39m=\u001b[39m\u001b[39mTrue\u001b[39;00m)\n\u001b[1;32m   <a href='file:///~/storage/humor-personalization/venv/lib/python3.8/site-packages/pandas/core/series.py?line=5633'>5634</a>\u001b[0m res_values \u001b[39m=\u001b[39m ops\u001b[39m.\u001b[39mlogical_op(lvalues, rvalues, op)\n\u001b[0;32m-> <a href='file:///~/storage/humor-personalization/venv/lib/python3.8/site-packages/pandas/core/series.py?line=5634'>5635</a>\u001b[0m \u001b[39mreturn\u001b[39;00m \u001b[39mself\u001b[39;49m\u001b[39m.\u001b[39;49m_construct_result(res_values, name\u001b[39m=\u001b[39;49mres_name)\n",
      "File \u001b[0;32m~/storage/humor-personalization/venv/lib/python3.8/site-packages/pandas/core/series.py:3017\u001b[0m, in \u001b[0;36mSeries._construct_result\u001b[0;34m(self, result, name)\u001b[0m\n\u001b[1;32m   <a href='file:///~/storage/humor-personalization/venv/lib/python3.8/site-packages/pandas/core/series.py?line=3012'>3013</a>\u001b[0m     \u001b[39mreturn\u001b[39;00m (res1, res2)\n\u001b[1;32m   <a href='file:///~/storage/humor-personalization/venv/lib/python3.8/site-packages/pandas/core/series.py?line=3014'>3015</a>\u001b[0m \u001b[39m# We do not pass dtype to ensure that the Series constructor\u001b[39;00m\n\u001b[1;32m   <a href='file:///~/storage/humor-personalization/venv/lib/python3.8/site-packages/pandas/core/series.py?line=3015'>3016</a>\u001b[0m \u001b[39m#  does inference in the case where `result` has object-dtype.\u001b[39;00m\n\u001b[0;32m-> <a href='file:///~/storage/humor-personalization/venv/lib/python3.8/site-packages/pandas/core/series.py?line=3016'>3017</a>\u001b[0m out \u001b[39m=\u001b[39m \u001b[39mself\u001b[39;49m\u001b[39m.\u001b[39;49m_constructor(result, index\u001b[39m=\u001b[39;49m\u001b[39mself\u001b[39;49m\u001b[39m.\u001b[39;49mindex)\n\u001b[1;32m   <a href='file:///~/storage/humor-personalization/venv/lib/python3.8/site-packages/pandas/core/series.py?line=3017'>3018</a>\u001b[0m out \u001b[39m=\u001b[39m out\u001b[39m.\u001b[39m__finalize__(\u001b[39mself\u001b[39m)\n\u001b[1;32m   <a href='file:///~/storage/humor-personalization/venv/lib/python3.8/site-packages/pandas/core/series.py?line=3019'>3020</a>\u001b[0m \u001b[39m# Set the result's name after __finalize__ is called because __finalize__\u001b[39;00m\n\u001b[1;32m   <a href='file:///~/storage/humor-personalization/venv/lib/python3.8/site-packages/pandas/core/series.py?line=3020'>3021</a>\u001b[0m \u001b[39m#  would set it back to self.name\u001b[39;00m\n",
      "File \u001b[0;32m~/storage/humor-personalization/venv/lib/python3.8/site-packages/pandas/core/series.py:455\u001b[0m, in \u001b[0;36mSeries.__init__\u001b[0;34m(self, data, index, dtype, name, copy, fastpath)\u001b[0m\n\u001b[1;32m    <a href='file:///~/storage/humor-personalization/venv/lib/python3.8/site-packages/pandas/core/series.py?line=452'>453</a>\u001b[0m manager \u001b[39m=\u001b[39m get_option(\u001b[39m\"\u001b[39m\u001b[39mmode.data_manager\u001b[39m\u001b[39m\"\u001b[39m)\n\u001b[1;32m    <a href='file:///~/storage/humor-personalization/venv/lib/python3.8/site-packages/pandas/core/series.py?line=453'>454</a>\u001b[0m \u001b[39mif\u001b[39;00m manager \u001b[39m==\u001b[39m \u001b[39m\"\u001b[39m\u001b[39mblock\u001b[39m\u001b[39m\"\u001b[39m:\n\u001b[0;32m--> <a href='file:///~/storage/humor-personalization/venv/lib/python3.8/site-packages/pandas/core/series.py?line=454'>455</a>\u001b[0m     data \u001b[39m=\u001b[39m SingleBlockManager\u001b[39m.\u001b[39;49mfrom_array(data, index)\n\u001b[1;32m    <a href='file:///~/storage/humor-personalization/venv/lib/python3.8/site-packages/pandas/core/series.py?line=455'>456</a>\u001b[0m \u001b[39melif\u001b[39;00m manager \u001b[39m==\u001b[39m \u001b[39m\"\u001b[39m\u001b[39marray\u001b[39m\u001b[39m\"\u001b[39m:\n\u001b[1;32m    <a href='file:///~/storage/humor-personalization/venv/lib/python3.8/site-packages/pandas/core/series.py?line=456'>457</a>\u001b[0m     data \u001b[39m=\u001b[39m SingleArrayManager\u001b[39m.\u001b[39mfrom_array(data, index)\n",
      "File \u001b[0;32m~/storage/humor-personalization/venv/lib/python3.8/site-packages/pandas/core/internals/managers.py:1736\u001b[0m, in \u001b[0;36mSingleBlockManager.from_array\u001b[0;34m(cls, array, index)\u001b[0m\n\u001b[1;32m   <a href='file:///~/storage/humor-personalization/venv/lib/python3.8/site-packages/pandas/core/internals/managers.py?line=1730'>1731</a>\u001b[0m \u001b[39m@classmethod\u001b[39m\n\u001b[1;32m   <a href='file:///~/storage/humor-personalization/venv/lib/python3.8/site-packages/pandas/core/internals/managers.py?line=1731'>1732</a>\u001b[0m \u001b[39mdef\u001b[39;00m \u001b[39mfrom_array\u001b[39m(\u001b[39mcls\u001b[39m, array: ArrayLike, index: Index) \u001b[39m-\u001b[39m\u001b[39m>\u001b[39m SingleBlockManager:\n\u001b[1;32m   <a href='file:///~/storage/humor-personalization/venv/lib/python3.8/site-packages/pandas/core/internals/managers.py?line=1732'>1733</a>\u001b[0m     \u001b[39m\"\"\"\u001b[39;00m\n\u001b[1;32m   <a href='file:///~/storage/humor-personalization/venv/lib/python3.8/site-packages/pandas/core/internals/managers.py?line=1733'>1734</a>\u001b[0m \u001b[39m    Constructor for if we have an array that is not yet a Block.\u001b[39;00m\n\u001b[1;32m   <a href='file:///~/storage/humor-personalization/venv/lib/python3.8/site-packages/pandas/core/internals/managers.py?line=1734'>1735</a>\u001b[0m \u001b[39m    \"\"\"\u001b[39;00m\n\u001b[0;32m-> <a href='file:///~/storage/humor-personalization/venv/lib/python3.8/site-packages/pandas/core/internals/managers.py?line=1735'>1736</a>\u001b[0m     block \u001b[39m=\u001b[39m new_block(array, placement\u001b[39m=\u001b[39;49m\u001b[39mslice\u001b[39;49m(\u001b[39m0\u001b[39;49m, \u001b[39mlen\u001b[39;49m(index)), ndim\u001b[39m=\u001b[39;49m\u001b[39m1\u001b[39;49m)\n\u001b[1;32m   <a href='file:///~/storage/humor-personalization/venv/lib/python3.8/site-packages/pandas/core/internals/managers.py?line=1736'>1737</a>\u001b[0m     \u001b[39mreturn\u001b[39;00m \u001b[39mcls\u001b[39m(block, index)\n",
      "File \u001b[0;32m~/storage/humor-personalization/venv/lib/python3.8/site-packages/pandas/core/internals/blocks.py:2036\u001b[0m, in \u001b[0;36mnew_block\u001b[0;34m(values, placement, ndim)\u001b[0m\n\u001b[1;32m   <a href='file:///~/storage/humor-personalization/venv/lib/python3.8/site-packages/pandas/core/internals/blocks.py?line=2032'>2033</a>\u001b[0m klass \u001b[39m=\u001b[39m get_block_type(values\u001b[39m.\u001b[39mdtype)\n\u001b[1;32m   <a href='file:///~/storage/humor-personalization/venv/lib/python3.8/site-packages/pandas/core/internals/blocks.py?line=2034'>2035</a>\u001b[0m values \u001b[39m=\u001b[39m maybe_coerce_values(values)\n\u001b[0;32m-> <a href='file:///~/storage/humor-personalization/venv/lib/python3.8/site-packages/pandas/core/internals/blocks.py?line=2035'>2036</a>\u001b[0m \u001b[39mreturn\u001b[39;00m klass(values, ndim\u001b[39m=\u001b[39;49mndim, placement\u001b[39m=\u001b[39;49mplacement)\n",
      "\u001b[0;31mKeyboardInterrupt\u001b[0m: "
     ]
    }
   ],
   "source": [
    "# get_weighted_conformity puścić\n",
    "# get_mean_conformity puścić\n",
    "# get_entropy puścić\n",
    "# get_weighted_text_controversy puścić\n",
    "# var_ratio puścić\n",
    "# get_weighted_conformity_annotation_count_weighted NOWA, puścić\n",
    "# get_mean_conformity_annotation_count_weighted NOWA, puścić\n",
    "# get_var_ratio_annotation_count_weighted NOWA, puścić\n",
    "# get_avg_max_conformity NOWA, puścić\n",
    "# get_avg_min_conformity NOWA, puścić\n",
    "# get_max_weighted_conformity NOWA, puścić\n",
    "# get_max_min_conformity NOWA, puścić\n",
    "# get_max_max_conformity NOWA, puścić\n",
    "# get_min_weighted_conformity NOWA, puścić\n",
    "# get_min_max_conformity NOWA, puścić\n",
    "# get_min_min_conformity NOWA, puścić\n",
    "\n",
    "annotations['user_annotation_order'] = -1\n",
    "for user in tqdm.tqdm(pd.unique(annotations['annotator_id'])):\n",
    "    first_user_row_id = annotations.index[annotations['annotator_id'] == user].tolist()[0]\n",
    "    annotations.at[first_user_row_id, 'user_annotation_order'] = 0\n",
    "metric_test = neighbour_annotators_count(\"is_funny\", annotations)\n",
    "# texts_controversy_df = texts_controversy_df.groupby(\"annotator_id\").apply(rank)\n",
    "metric_test[metric_test['annotator_id']==160].sort_values(by=['user_annotation_order'])\n",
    "# metric_test"
   ]
  }
 ],
 "metadata": {
  "interpreter": {
   "hash": "8fa4688e29a9c93b53e3472550c89ae0006bd98434b519802775770a243a1ca5"
  },
  "kernelspec": {
   "display_name": "Python 3.8.5 ('venv': venv)",
   "language": "python",
   "name": "python3"
  },
  "language_info": {
   "codemirror_mode": {
    "name": "ipython",
    "version": 3
   },
   "file_extension": ".py",
   "mimetype": "text/x-python",
   "name": "python",
   "nbconvert_exporter": "python",
   "pygments_lexer": "ipython3",
   "version": "3.8.5"
  },
  "orig_nbformat": 4
 },
 "nbformat": 4,
 "nbformat_minor": 2
}
