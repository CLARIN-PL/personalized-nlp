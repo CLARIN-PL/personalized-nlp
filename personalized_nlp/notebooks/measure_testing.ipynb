{
 "cells": [
  {
   "cell_type": "code",
   "execution_count": 10,
   "metadata": {},
   "outputs": [],
   "source": [
    "import sys\n",
    "sys.path.append(\"../\") # go to parent dir\n",
    "\n",
    "import pandas as pd\n",
    "import numpy as np\n",
    "from utils.pers_text_rec import *"
   ]
  },
  {
   "cell_type": "code",
   "execution_count": 15,
   "metadata": {},
   "outputs": [],
   "source": [
    "annotations = pd.read_csv('/home/gengar/storage/humor-personalization/personalized_nlp/storage/humor/texts/annotations.csv', nrows=10000)"
   ]
  },
  {
   "cell_type": "code",
   "execution_count": 16,
   "metadata": {},
   "outputs": [
    {
     "data": {
      "text/html": [
       "<div>\n",
       "<style scoped>\n",
       "    .dataframe tbody tr th:only-of-type {\n",
       "        vertical-align: middle;\n",
       "    }\n",
       "\n",
       "    .dataframe tbody tr th {\n",
       "        vertical-align: top;\n",
       "    }\n",
       "\n",
       "    .dataframe thead th {\n",
       "        text-align: right;\n",
       "    }\n",
       "</style>\n",
       "<table border=\"1\" class=\"dataframe\">\n",
       "  <thead>\n",
       "    <tr style=\"text-align: right;\">\n",
       "      <th></th>\n",
       "      <th>21687865379</th>\n",
       "      <th>04hfu1edim4o69ihnmeas70jj3</th>\n",
       "      <th>n</th>\n",
       "    </tr>\n",
       "  </thead>\n",
       "  <tbody>\n",
       "    <tr>\n",
       "      <th>0</th>\n",
       "      <td>21687865379</td>\n",
       "      <td>0re71cb38k4vbm0ab8ptfch9e1</td>\n",
       "      <td>3</td>\n",
       "    </tr>\n",
       "    <tr>\n",
       "      <th>1</th>\n",
       "      <td>21687865379</td>\n",
       "      <td>1edr5icem4mtn3dgfqv1o99he2</td>\n",
       "      <td>1</td>\n",
       "    </tr>\n",
       "    <tr>\n",
       "      <th>2</th>\n",
       "      <td>21687865379</td>\n",
       "      <td>eoqefm1vce3tecodb9i9g2avp7</td>\n",
       "      <td>4</td>\n",
       "    </tr>\n",
       "    <tr>\n",
       "      <th>3</th>\n",
       "      <td>21687865379</td>\n",
       "      <td>fic8u9o83q8vq2jt2t4ed9vra4</td>\n",
       "      <td>1</td>\n",
       "    </tr>\n",
       "    <tr>\n",
       "      <th>4</th>\n",
       "      <td>21687865379</td>\n",
       "      <td>ohq6dms4h3eaub4eac8gkm4nj3</td>\n",
       "      <td>1</td>\n",
       "    </tr>\n",
       "  </tbody>\n",
       "</table>\n",
       "</div>"
      ],
      "text/plain": [
       "   21687865379  04hfu1edim4o69ihnmeas70jj3  n\n",
       "0  21687865379  0re71cb38k4vbm0ab8ptfch9e1  3\n",
       "1  21687865379  1edr5icem4mtn3dgfqv1o99he2  1\n",
       "2  21687865379  eoqefm1vce3tecodb9i9g2avp7  4\n",
       "3  21687865379  fic8u9o83q8vq2jt2t4ed9vra4  1\n",
       "4  21687865379  ohq6dms4h3eaub4eac8gkm4nj3  1"
      ]
     },
     "execution_count": 16,
     "metadata": {},
     "output_type": "execute_result"
    }
   ],
   "source": [
    "annotations.head()"
   ]
  },
  {
   "cell_type": "code",
   "execution_count": 17,
   "metadata": {},
   "outputs": [
    {
     "data": {
      "text/plain": [
       "0     3\n",
       "1     1\n",
       "2     4\n",
       "3     1\n",
       "4     1\n",
       "5     1\n",
       "6     3\n",
       "7     1\n",
       "8     1\n",
       "9     1\n",
       "10    4\n",
       "11    4\n",
       "12    n\n",
       "13    5\n",
       "14    2\n",
       "15    1\n",
       "16    2\n",
       "17    4\n",
       "18    x\n",
       "19    4\n",
       "20    5\n",
       "21    n\n",
       "22    3\n",
       "23    1\n",
       "24    3\n",
       "25    3\n",
       "26    4\n",
       "27    1\n",
       "28    2\n",
       "29    4\n",
       "30    5\n",
       "31    3\n",
       "32    1\n",
       "33    4\n",
       "34    3\n",
       "35    x\n",
       "36    4\n",
       "37    n\n",
       "38    1\n",
       "39    x\n",
       "Name: n, dtype: object"
      ]
     },
     "execution_count": 17,
     "metadata": {},
     "output_type": "execute_result"
    }
   ],
   "source": [
    "annotations['n'].head(40)\n",
    "metric_test = get_conformity('n', annotations)"
   ]
  }
 ],
 "metadata": {
  "interpreter": {
   "hash": "8fa4688e29a9c93b53e3472550c89ae0006bd98434b519802775770a243a1ca5"
  },
  "kernelspec": {
   "display_name": "Python 3.8.5 ('venv': venv)",
   "language": "python",
   "name": "python3"
  },
  "language_info": {
   "codemirror_mode": {
    "name": "ipython",
    "version": 3
   },
   "file_extension": ".py",
   "mimetype": "text/x-python",
   "name": "python",
   "nbconvert_exporter": "python",
   "pygments_lexer": "ipython3",
   "version": "3.8.5"
  },
  "orig_nbformat": 4
 },
 "nbformat": 4,
 "nbformat_minor": 2
}
