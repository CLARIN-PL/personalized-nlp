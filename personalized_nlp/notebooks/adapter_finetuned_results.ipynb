{
 "cells": [
  {
   "cell_type": "code",
   "execution_count": 2,
   "metadata": {},
   "outputs": [],
   "source": [
    "import pandas as pd\n",
    "from settings import STORAGE_DIR\n",
    "import os"
   ]
  },
  {
   "cell_type": "code",
   "execution_count": 4,
   "metadata": {},
   "outputs": [],
   "source": [
    "all_dfs = []\n",
    "for f in os.listdir(STORAGE_DIR / 'adapter_finetuned' / 'results'):\n",
    "    df = pd.read_pickle(STORAGE_DIR / 'adapter_finetuned' / 'results' / f)\n",
    "\n",
    "    fold_num = f.split('.')[-2][-1]\n",
    "    df['fold_num'] = fold_num\n",
    "    all_dfs.append(df)"
   ]
  },
  {
   "cell_type": "code",
   "execution_count": 5,
   "metadata": {},
   "outputs": [],
   "source": [
    "full_results_df = pd.concat(all_dfs)"
   ]
  },
  {
   "cell_type": "code",
   "execution_count": 8,
   "metadata": {},
   "outputs": [
    {
     "data": {
      "text/plain": [
       "1    2893\n",
       "2    2869\n",
       "3    2757\n",
       "0    2742\n",
       "Name: fold_num, dtype: int64"
      ]
     },
     "execution_count": 8,
     "metadata": {},
     "output_type": "execute_result"
    }
   ],
   "source": [
    "full_results_df.fold_num.value_counts()"
   ]
  },
  {
   "cell_type": "code",
   "execution_count": 9,
   "metadata": {},
   "outputs": [],
   "source": [
    "import numpy as np\n",
    "labels_full = {}\n",
    "preds_full = {}\n",
    "for fold in range(4):\n",
    "    labels_full[fold] = np.vstack(full_results_df.loc[full_results_df.fold_num == str(fold)]['labels'].values)\n",
    "    preds_full[fold] = np.vstack(full_results_df.loc[full_results_df.fold_num == str(fold)]['preds'].values)"
   ]
  },
  {
   "cell_type": "code",
   "execution_count": 10,
   "metadata": {},
   "outputs": [],
   "source": [
    "from sklearn.metrics import r2_score, mean_squared_error\n",
    "\n",
    "r2_scores = {}\n",
    "mse_scores = {}\n",
    "\n",
    "for fold in range(4):\n",
    "    r2_scores[fold] = []\n",
    "    mse_scores[fold] = []\n",
    "\n",
    "    for idx in range(labels_full[fold].shape[1]):\n",
    "        r2_scores[fold].append(r2_score(labels_full[fold][:, idx], preds_full[fold][:, idx])) \n",
    "        mse_scores[fold].append(mean_squared_error(labels_full[fold][:, idx], preds_full[fold][:, idx])) \n"
   ]
  },
  {
   "cell_type": "code",
   "execution_count": 11,
   "metadata": {},
   "outputs": [],
   "source": [
    "mean_r2_scores = [np.mean(v) for k, v in r2_scores.items()]\n",
    "mean_mse_scores = [np.mean(v) for k, v in mse_scores.items()]"
   ]
  },
  {
   "cell_type": "code",
   "execution_count": 13,
   "metadata": {},
   "outputs": [],
   "source": [
    "adapter_results = pd.DataFrame({'Model': ['Adapters'] * 4, 'test_r2_mean': mean_r2_scores, 'test_mse_mean': mean_mse_scores})"
   ]
  },
  {
   "cell_type": "code",
   "execution_count": 14,
   "metadata": {},
   "outputs": [
    {
     "data": {
      "text/plain": [
       "<AxesSubplot:xlabel='Model', ylabel='test_r2_mean'>"
      ]
     },
     "execution_count": 14,
     "metadata": {},
     "output_type": "execute_result"
    },
    {
     "data": {
      "image/png": "[encoded data removed]",
      "text/plain": [
       "<Figure size 432x288 with 1 Axes>"
      ]
     },
     "metadata": {
      "needs_background": "light"
     },
     "output_type": "display_data"
    }
   ],
   "source": [
    "import seaborn as sns\n",
    "\n",
    "user_id_results = pd.read_csv(STORAGE_DIR / 'doccano_reg.csv')\n",
    "user_id_results = user_id_results.loc[user_id_results.model_type == 'transformer_user_id']\n",
    "\n",
    "user_id_results['Model'] = \"Transfomer\"\n",
    "user_id_results.loc[user_id_results.append_annotator_ids, 'Model'] = 'UserID'\n",
    "\n",
    "user_id_results = user_id_results[['Model', 'test_r2_mean', 'test_mse_mean']]\n",
    "\n",
    "df = pd.concat([adapter_results, user_id_results])\n",
    "\n",
    "\n",
    "sns.barplot(data=df, y='test_r2_mean', x='Model')"
   ]
  },
  {
   "cell_type": "code",
   "execution_count": 15,
   "metadata": {},
   "outputs": [
    {
     "data": {
      "text/plain": [
       "<AxesSubplot:xlabel='Model', ylabel='test_mse_mean'>"
      ]
     },
     "execution_count": 15,
     "metadata": {},
     "output_type": "execute_result"
    },
    {
     "data": {
      "image/png": "[encoded data removed]",
      "text/plain": [
       "<Figure size 432x288 with 1 Axes>"
      ]
     },
     "metadata": {
      "needs_background": "light"
     },
     "output_type": "display_data"
    }
   ],
   "source": [
    "sns.barplot(data=df, y='test_mse_mean', x='Model')\n"
   ]
  },
  {
   "cell_type": "code",
   "execution_count": null,
   "metadata": {},
   "outputs": [],
   "source": []
  }
 ],
 "metadata": {
  "kernelspec": {
   "display_name": "venv",
   "language": "python",
   "name": "python3"
  },
  "language_info": {
   "codemirror_mode": {
    "name": "ipython",
    "version": 3
   },
   "file_extension": ".py",
   "mimetype": "text/x-python",
   "name": "python",
   "nbconvert_exporter": "python",
   "pygments_lexer": "ipython3",
   "version": "3.8.10"
  },
  "orig_nbformat": 4
 },
 "nbformat": 4,
 "nbformat_minor": 2
}
